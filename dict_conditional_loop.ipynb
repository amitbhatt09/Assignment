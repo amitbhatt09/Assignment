{
 "cells": [
  {
   "cell_type": "code",
   "execution_count": 3,
   "id": "68c32497-bb62-45b1-9afc-0c156c5710c8",
   "metadata": {},
   "outputs": [
    {
     "data": {
      "text/plain": [
       "list"
      ]
     },
     "execution_count": 3,
     "metadata": {},
     "output_type": "execute_result"
    }
   ],
   "source": [
    "t=()\n",
    "type(t)\n",
    "\n",
    "s=[]\n",
    "type(s)"
   ]
  },
  {
   "cell_type": "code",
   "execution_count": 4,
   "id": "8b6cdf58-1388-4173-a761-9f5bda538bee",
   "metadata": {},
   "outputs": [
    {
     "data": {
      "text/plain": [
       "tuple"
      ]
     },
     "execution_count": 4,
     "metadata": {},
     "output_type": "execute_result"
    }
   ],
   "source": [
    "t=()\n",
    "type(t)"
   ]
  },
  {
   "cell_type": "code",
   "execution_count": 5,
   "id": "28cb1b16-b0c7-47d7-837c-57b4073bab9c",
   "metadata": {},
   "outputs": [
    {
     "data": {
      "text/plain": [
       "dict"
      ]
     },
     "execution_count": 5,
     "metadata": {},
     "output_type": "execute_result"
    }
   ],
   "source": [
    "s={}\n",
    "type(s)"
   ]
  },
  {
   "cell_type": "code",
   "execution_count": 7,
   "id": "f11a9373-c2e4-4afe-acdb-75bfb7b84583",
   "metadata": {},
   "outputs": [
    {
     "data": {
      "text/plain": [
       "dict"
      ]
     },
     "execution_count": 7,
     "metadata": {},
     "output_type": "execute_result"
    }
   ],
   "source": [
    "d={'key' : \"amit\"}\n",
    "type(d)"
   ]
  },
  {
   "cell_type": "code",
   "execution_count": 8,
   "id": "4c10bc99-40f7-46d5-b514-b3235ba13724",
   "metadata": {},
   "outputs": [
    {
     "data": {
      "text/plain": [
       "{'key': 'amit'}"
      ]
     },
     "execution_count": 8,
     "metadata": {},
     "output_type": "execute_result"
    }
   ],
   "source": []
  },
  {
   "cell_type": "code",
   "execution_count": 11,
   "id": "3e4400ef-209f-46a4-8a33-9f3858026d29",
   "metadata": {},
   "outputs": [
    {
     "data": {
      "text/plain": [
       "{'name': 'amit', 'email': 'amit@gmail.com', 'phone no': 97194408}"
      ]
     },
     "execution_count": 11,
     "metadata": {},
     "output_type": "execute_result"
    }
   ],
   "source": [
    "d2= {'name':\"amit\",'email':\"amit@gmail.com\",\"phone no\":97194408}\n",
    "d2"
   ]
  },
  {
   "cell_type": "code",
   "execution_count": 12,
   "id": "52d27c02-1986-4595-83a5-47dd12518c18",
   "metadata": {},
   "outputs": [
    {
     "ename": "SyntaxError",
     "evalue": "invalid syntax (3518027865.py, line 1)",
     "output_type": "error",
     "traceback": [
      "\u001b[0;36m  Cell \u001b[0;32mIn[12], line 1\u001b[0;36m\u001b[0m\n\u001b[0;31m    d3 = {234:\"amit\",@:\"amit\"}\u001b[0m\n\u001b[0m                     ^\u001b[0m\n\u001b[0;31mSyntaxError\u001b[0m\u001b[0;31m:\u001b[0m invalid syntax\n"
     ]
    }
   ],
   "source": [
    "d3 = {234:\"amit\",@:\"amit\"}"
   ]
  },
  {
   "cell_type": "code",
   "execution_count": 15,
   "id": "1865419c-4b42-4f22-a535-843b3498098e",
   "metadata": {},
   "outputs": [],
   "source": [
    "d3={123:\"amit\",'_wer':\"bhatt\",True:56546}"
   ]
  },
  {
   "cell_type": "code",
   "execution_count": 17,
   "id": "957f2169-7768-41e0-8ca1-8e223950be94",
   "metadata": {},
   "outputs": [
    {
     "data": {
      "text/plain": [
       "'amit'"
      ]
     },
     "execution_count": 17,
     "metadata": {},
     "output_type": "execute_result"
    }
   ],
   "source": [
    "d3[123]"
   ]
  },
  {
   "cell_type": "code",
   "execution_count": 18,
   "id": "a90f0292-3210-482b-89f7-58f1bdb07e85",
   "metadata": {},
   "outputs": [
    {
     "data": {
      "text/plain": [
       "56546"
      ]
     },
     "execution_count": 18,
     "metadata": {},
     "output_type": "execute_result"
    }
   ],
   "source": [
    "d3[True]"
   ]
  },
  {
   "cell_type": "code",
   "execution_count": 19,
   "id": "a9fdfc8e-76c9-41d3-9ebe-0b729e5704ce",
   "metadata": {},
   "outputs": [
    {
     "data": {
      "text/plain": [
       "56546"
      ]
     },
     "execution_count": 19,
     "metadata": {},
     "output_type": "execute_result"
    }
   ],
   "source": [
    "d3[1]"
   ]
  },
  {
   "cell_type": "code",
   "execution_count": 20,
   "id": "968eda05-b5bd-461c-b4a6-63fdd24f5e1e",
   "metadata": {},
   "outputs": [],
   "source": [
    "d4 = {'name':\"amit\",'mail':\"amit@gmail.com\",'name':\"bhatt\"}"
   ]
  },
  {
   "cell_type": "code",
   "execution_count": 21,
   "id": "34cf90a4-4ac9-4ddb-a978-b20edf461689",
   "metadata": {},
   "outputs": [
    {
     "data": {
      "text/plain": [
       "'bhatt'"
      ]
     },
     "execution_count": 21,
     "metadata": {},
     "output_type": "execute_result"
    }
   ],
   "source": [
    "d4['name']"
   ]
  },
  {
   "cell_type": "code",
   "execution_count": 22,
   "id": "03e851f2-913a-484f-a8c5-c84ae6f5ef31",
   "metadata": {},
   "outputs": [],
   "source": [
    "d5={'company':\"pwskilss\",'courses':[\"web dev\" , data sci\" , \"java\"]}"
   ]
  },
  {
   "cell_type": "code",
   "execution_count": 23,
   "id": "de47a3fe-18e9-40c6-96e5-95267055ce73",
   "metadata": {},
   "outputs": [
    {
     "data": {
      "text/plain": [
       "{'company': 'pwskilss', 'courses': ['web dev', 'data sci', 'java']}"
      ]
     },
     "execution_count": 23,
     "metadata": {},
     "output_type": "execute_result"
    }
   ],
   "source": [
    "d5"
   ]
  },
  {
   "cell_type": "code",
   "execution_count": 25,
   "id": "128aae09-52d0-4ece-8010-aea11845926f",
   "metadata": {},
   "outputs": [
    {
     "data": {
      "text/plain": [
       "['web dev', 'data sci', 'java']"
      ]
     },
     "execution_count": 25,
     "metadata": {},
     "output_type": "execute_result"
    }
   ],
   "source": [
    "d5['courses']"
   ]
  },
  {
   "cell_type": "code",
   "execution_count": 26,
   "id": "3384075b-7ed1-4285-b44b-1b491ac017cd",
   "metadata": {},
   "outputs": [
    {
     "data": {
      "text/plain": [
       "'java'"
      ]
     },
     "execution_count": 26,
     "metadata": {},
     "output_type": "execute_result"
    }
   ],
   "source": [
    "d5['courses'][2]"
   ]
  },
  {
   "cell_type": "code",
   "execution_count": 31,
   "id": "bca7fc16-3149-4d5b-be33-1eb4ab5c6288",
   "metadata": {},
   "outputs": [],
   "source": [
    "d6 = {'number':[12,13,78,90],'assignments':(1,2,3,4),'launch_date':{28,12,14},'class_time':{'web_dev':8,'data_science':10,'java':9}}"
   ]
  },
  {
   "cell_type": "code",
   "execution_count": null,
   "id": "b42a8cbd-888a-46e8-9e88-1ae4d99df949",
   "metadata": {},
   "outputs": [],
   "source": []
  },
  {
   "cell_type": "code",
   "execution_count": 32,
   "id": "b4f50adc-43ea-4089-abe3-fc190fc8d988",
   "metadata": {},
   "outputs": [
    {
     "data": {
      "text/plain": [
       "{'number': [12, 13, 78, 90],\n",
       " 'assignments': (1, 2, 3, 4),\n",
       " 'launch_date': {12, 14, 28},\n",
       " 'class_time': {'web_dev': 8, 'data_science': 10, 'java': 9}}"
      ]
     },
     "execution_count": 32,
     "metadata": {},
     "output_type": "execute_result"
    }
   ],
   "source": [
    "d6"
   ]
  },
  {
   "cell_type": "code",
   "execution_count": 34,
   "id": "8f915b44-df0c-4663-83c0-68d950360d2c",
   "metadata": {},
   "outputs": [
    {
     "data": {
      "text/plain": [
       "{'web_dev': 8, 'data_science': 10, 'java': 9}"
      ]
     },
     "execution_count": 34,
     "metadata": {},
     "output_type": "execute_result"
    }
   ],
   "source": [
    "d6['class_time']"
   ]
  },
  {
   "cell_type": "code",
   "execution_count": 35,
   "id": "0cb74c0b-b1e6-494d-ab4a-db7b21976723",
   "metadata": {},
   "outputs": [
    {
     "data": {
      "text/plain": [
       "9"
      ]
     },
     "execution_count": 35,
     "metadata": {},
     "output_type": "execute_result"
    }
   ],
   "source": [
    "d6['class_time']['java']"
   ]
  },
  {
   "cell_type": "code",
   "execution_count": 36,
   "id": "5d1f2217-37ec-4bc8-bbfd-5d4804054059",
   "metadata": {},
   "outputs": [
    {
     "ename": "KeyError",
     "evalue": "'java'",
     "output_type": "error",
     "traceback": [
      "\u001b[0;31m---------------------------------------------------------------------------\u001b[0m",
      "\u001b[0;31mKeyError\u001b[0m                                  Traceback (most recent call last)",
      "Cell \u001b[0;32mIn[36], line 1\u001b[0m\n\u001b[0;32m----> 1\u001b[0m \u001b[43md6\u001b[49m\u001b[43m[\u001b[49m\u001b[38;5;124;43m'\u001b[39;49m\u001b[38;5;124;43mjava\u001b[39;49m\u001b[38;5;124;43m'\u001b[39;49m\u001b[43m]\u001b[49m\n",
      "\u001b[0;31mKeyError\u001b[0m: 'java'"
     ]
    }
   ],
   "source": [
    "d6['java']"
   ]
  },
  {
   "cell_type": "code",
   "execution_count": 39,
   "id": "dcce973d-08d2-4a16-96ad-24f8ab9b666a",
   "metadata": {},
   "outputs": [],
   "source": [
    "##adding data in dictionary\n",
    "d6['number'] = [\"sudhnashu\",\"krish\",\"telesko\"]"
   ]
  },
  {
   "cell_type": "code",
   "execution_count": 38,
   "id": "0a65de60-c88e-4a34-8050-dc87fe14e5ab",
   "metadata": {},
   "outputs": [
    {
     "data": {
      "text/plain": [
       "{'number': [12, 13, 78, 90],\n",
       " 'assignments': (1, 2, 3, 4),\n",
       " 'launch_date': {12, 14, 28},\n",
       " 'class_time': {'web_dev': 8, 'data_science': 10, 'java': 9},\n",
       " 'mentor': ['sudhnashu', 'krish', 'telesko']}"
      ]
     },
     "execution_count": 38,
     "metadata": {},
     "output_type": "execute_result"
    }
   ],
   "source": [
    "d6"
   ]
  },
  {
   "cell_type": "code",
   "execution_count": 40,
   "id": "228e9446-0f46-4b8a-8a81-4f8a0d663062",
   "metadata": {},
   "outputs": [
    {
     "data": {
      "text/plain": [
       "{'number': ['sudhnashu', 'krish', 'telesko'],\n",
       " 'assignments': (1, 2, 3, 4),\n",
       " 'launch_date': {12, 14, 28},\n",
       " 'class_time': {'web_dev': 8, 'data_science': 10, 'java': 9},\n",
       " 'mentor': ['sudhnashu', 'krish', 'telesko']}"
      ]
     },
     "execution_count": 40,
     "metadata": {},
     "output_type": "execute_result"
    }
   ],
   "source": [
    "d6"
   ]
  },
  {
   "cell_type": "code",
   "execution_count": 41,
   "id": "702afdef-2228-4b5a-b0ee-064bf7d07d08",
   "metadata": {},
   "outputs": [],
   "source": [
    "del d6['number']##deleting data from dictionary\n"
   ]
  },
  {
   "cell_type": "code",
   "execution_count": 42,
   "id": "43223653-6620-45aa-a3c7-b51879c23591",
   "metadata": {},
   "outputs": [
    {
     "data": {
      "text/plain": [
       "{'assignments': (1, 2, 3, 4),\n",
       " 'launch_date': {12, 14, 28},\n",
       " 'class_time': {'web_dev': 8, 'data_science': 10, 'java': 9},\n",
       " 'mentor': ['sudhnashu', 'krish', 'telesko']}"
      ]
     },
     "execution_count": 42,
     "metadata": {},
     "output_type": "execute_result"
    }
   ],
   "source": [
    "d6"
   ]
  },
  {
   "cell_type": "code",
   "execution_count": 45,
   "id": "acdd8bb7-661f-43ba-90f2-77b7236a8e64",
   "metadata": {},
   "outputs": [
    {
     "data": {
      "text/plain": [
       "['assignments', 'launch_date', 'class_time', 'mentor']"
      ]
     },
     "execution_count": 45,
     "metadata": {},
     "output_type": "execute_result"
    }
   ],
   "source": [
    "list(d6.keys())"
   ]
  },
  {
   "cell_type": "code",
   "execution_count": 46,
   "id": "f58467b9-0a63-4501-9731-f69c7dc4bd91",
   "metadata": {},
   "outputs": [
    {
     "data": {
      "text/plain": [
       "dict_values([(1, 2, 3, 4), {28, 12, 14}, {'web_dev': 8, 'data_science': 10, 'java': 9}, ['sudhnashu', 'krish', 'telesko']])"
      ]
     },
     "execution_count": 46,
     "metadata": {},
     "output_type": "execute_result"
    }
   ],
   "source": [
    "d6.values()"
   ]
  },
  {
   "cell_type": "code",
   "execution_count": 48,
   "id": "096a1a42-b1c8-4ae9-8a6d-e70976d4c1ef",
   "metadata": {},
   "outputs": [
    {
     "data": {
      "text/plain": [
       "[(1, 2, 3, 4),\n",
       " {12, 14, 28},\n",
       " {'web_dev': 8, 'data_science': 10, 'java': 9},\n",
       " ['sudhnashu', 'krish', 'telesko']]"
      ]
     },
     "execution_count": 48,
     "metadata": {},
     "output_type": "execute_result"
    }
   ],
   "source": [
    "list(d6.values())"
   ]
  },
  {
   "cell_type": "code",
   "execution_count": 50,
   "id": "480b0a28-648d-4938-9ad4-65ac280ebc13",
   "metadata": {},
   "outputs": [
    {
     "data": {
      "text/plain": [
       "[('assignments', (1, 2, 3, 4)),\n",
       " ('launch_date', {12, 14, 28}),\n",
       " ('class_time', {'web_dev': 8, 'data_science': 10, 'java': 9}),\n",
       " ('mentor', ['sudhnashu', 'krish', 'telesko'])]"
      ]
     },
     "execution_count": 50,
     "metadata": {},
     "output_type": "execute_result"
    }
   ],
   "source": [
    "list(d6.items())"
   ]
  },
  {
   "cell_type": "code",
   "execution_count": 51,
   "id": "9ee23f35-ae51-4900-a269-9a8bc31d4062",
   "metadata": {},
   "outputs": [
    {
     "data": {
      "text/plain": [
       "{'assignments': (1, 2, 3, 4),\n",
       " 'launch_date': {12, 14, 28},\n",
       " 'class_time': {'web_dev': 8, 'data_science': 10, 'java': 9},\n",
       " 'mentor': ['sudhnashu', 'krish', 'telesko']}"
      ]
     },
     "execution_count": 51,
     "metadata": {},
     "output_type": "execute_result"
    }
   ],
   "source": [
    "d6"
   ]
  },
  {
   "cell_type": "code",
   "execution_count": 52,
   "id": "0af65f17-533a-409a-a0cf-9c433e9aadec",
   "metadata": {},
   "outputs": [
    {
     "data": {
      "text/plain": [
       "(1, 2, 3, 4)"
      ]
     },
     "execution_count": 52,
     "metadata": {},
     "output_type": "execute_result"
    }
   ],
   "source": [
    "d6.pop('assignments')"
   ]
  },
  {
   "cell_type": "code",
   "execution_count": 53,
   "id": "4c907721-b88d-4419-adbc-e4833484b8ac",
   "metadata": {},
   "outputs": [
    {
     "data": {
      "text/plain": [
       "{'launch_date': {12, 14, 28},\n",
       " 'class_time': {'web_dev': 8, 'data_science': 10, 'java': 9},\n",
       " 'mentor': ['sudhnashu', 'krish', 'telesko']}"
      ]
     },
     "execution_count": 53,
     "metadata": {},
     "output_type": "execute_result"
    }
   ],
   "source": [
    "d6"
   ]
  },
  {
   "cell_type": "code",
   "execution_count": 65,
   "id": "06e3dffe-4bdc-4fa4-94fb-ce8d6a84c3e6",
   "metadata": {},
   "outputs": [
    {
     "name": "stdin",
     "output_type": "stream",
     "text": [
      "Enter your marks 10\n"
     ]
    },
    {
     "name": "stdout",
     "output_type": "stream",
     "text": [
      "A4\n"
     ]
    }
   ],
   "source": [
    "marks =int(input(\"Enter your marks\"))\n",
    "if marks > 80 :\n",
    "    print(\"A1\")\n",
    "elif marks<=80 and marks >=60:\n",
    "        print(\"A2\")\n",
    "elif marks >=59 and marks <=30:\n",
    "            print(\"A3\")\n",
    "else:\n",
    "                print(\"A4\")\n",
    "    "
   ]
  },
  {
   "cell_type": "code",
   "execution_count": 66,
   "id": "126f3240-075b-405a-8401-00bfe9b48466",
   "metadata": {},
   "outputs": [],
   "source": [
    "l=[1,2,3,4,5,6,7,8,9]"
   ]
  },
  {
   "cell_type": "code",
   "execution_count": 72,
   "id": "dd697174-fbe4-4a3c-b623-3cf424e3f9eb",
   "metadata": {},
   "outputs": [
    {
     "data": {
      "text/plain": [
       "3"
      ]
     },
     "execution_count": 72,
     "metadata": {},
     "output_type": "execute_result"
    }
   ],
   "source": [
    "l[0]+2"
   ]
  },
  {
   "cell_type": "code",
   "execution_count": 77,
   "id": "7b7346fd-2762-4bb8-bd79-f37c87c11e0f",
   "metadata": {},
   "outputs": [],
   "source": [
    "l1=[]"
   ]
  },
  {
   "cell_type": "code",
   "execution_count": 78,
   "id": "b36859c9-bff7-459d-8b74-4f2083747fe5",
   "metadata": {},
   "outputs": [
    {
     "ename": "TypeError",
     "evalue": "list.append() takes no keyword arguments",
     "output_type": "error",
     "traceback": [
      "\u001b[0;31m---------------------------------------------------------------------------\u001b[0m",
      "\u001b[0;31mTypeError\u001b[0m                                 Traceback (most recent call last)",
      "Cell \u001b[0;32mIn[78], line 1\u001b[0m\n\u001b[0;32m----> 1\u001b[0m \u001b[43ml1\u001b[49m\u001b[38;5;241;43m.\u001b[39;49m\u001b[43mappend\u001b[49m\u001b[43m(\u001b[49m\u001b[43ml1\u001b[49m\u001b[38;5;241;43m=\u001b[39;49m\u001b[43ml\u001b[49m\u001b[43m[\u001b[49m\u001b[38;5;241;43m0\u001b[39;49m\u001b[43m]\u001b[49m\u001b[38;5;241;43m+\u001b[39;49m\u001b[38;5;241;43m2\u001b[39;49m\u001b[43m)\u001b[49m\n",
      "\u001b[0;31mTypeError\u001b[0m: list.append() takes no keyword arguments"
     ]
    }
   ],
   "source": [
    "l1.append(l1=l[0]+2)"
   ]
  },
  {
   "cell_type": "code",
   "execution_count": 79,
   "id": "6e7494e1-e2f2-4718-ba55-eca6867a6c20",
   "metadata": {},
   "outputs": [],
   "source": [
    "l3=[]"
   ]
  },
  {
   "cell_type": "code",
   "execution_count": 80,
   "id": "02dc7dab-0f6f-4008-a57c-fca7db0a0714",
   "metadata": {},
   "outputs": [],
   "source": [
    "l3.append(l[0]+2)"
   ]
  },
  {
   "cell_type": "code",
   "execution_count": 81,
   "id": "19e59137-021e-4566-81cd-a1cbc0c8de6e",
   "metadata": {},
   "outputs": [
    {
     "data": {
      "text/plain": [
       "[3]"
      ]
     },
     "execution_count": 81,
     "metadata": {},
     "output_type": "execute_result"
    }
   ],
   "source": [
    "l3"
   ]
  },
  {
   "cell_type": "code",
   "execution_count": 82,
   "id": "24d9c241-b701-49a8-96f0-7c0959e829bc",
   "metadata": {},
   "outputs": [
    {
     "data": {
      "text/plain": [
       "[1, 2, 3, 4, 5, 6, 7, 8, 9]"
      ]
     },
     "execution_count": 82,
     "metadata": {},
     "output_type": "execute_result"
    }
   ],
   "source": [
    "l"
   ]
  },
  {
   "cell_type": "code",
   "execution_count": 91,
   "id": "386e2877-3b19-464b-bc85-4f37ce655ba6",
   "metadata": {},
   "outputs": [
    {
     "name": "stdout",
     "output_type": "stream",
     "text": [
      "2\n",
      "3\n",
      "4\n",
      "5\n",
      "6\n",
      "7\n",
      "8\n",
      "9\n",
      "10\n"
     ]
    },
    {
     "data": {
      "text/plain": [
       "[2, 3, 4, 5, 6, 7, 8, 9, 10]"
      ]
     },
     "execution_count": 91,
     "metadata": {},
     "output_type": "execute_result"
    }
   ],
   "source": [
    "l1=[]\n",
    "for i in l:\n",
    "    print(i+1)\n",
    "    l1.append(i+1)\n",
    "l1"
   ]
  },
  {
   "cell_type": "code",
   "execution_count": 101,
   "id": "0e0a0711-ef4a-455b-8b54-894b90cbcd56",
   "metadata": {},
   "outputs": [],
   "source": [
    "l = [\"amit\",\"bhatt\",\"is\",\"very\",\"good\",\"boy\"]\n"
   ]
  },
  {
   "cell_type": "code",
   "execution_count": 103,
   "id": "5a3d9a01-f225-4276-947a-9c134386e622",
   "metadata": {},
   "outputs": [
    {
     "name": "stdout",
     "output_type": "stream",
     "text": [
      "amit\n",
      "bhatt\n",
      "is\n",
      "very\n",
      "good\n",
      "boy\n"
     ]
    }
   ],
   "source": [
    "l1=[]\n",
    "for i in l:\n",
    "        print(i)\n",
    "        l1.append(i.upper())"
   ]
  },
  {
   "cell_type": "code",
   "execution_count": 105,
   "id": "06d65b24-fcb1-4c7b-99cb-627980955f91",
   "metadata": {},
   "outputs": [
    {
     "data": {
      "text/plain": [
       "['AMIT', 'BHATT', 'IS', 'VERY', 'GOOD', 'BOY']"
      ]
     },
     "execution_count": 105,
     "metadata": {},
     "output_type": "execute_result"
    }
   ],
   "source": [
    "l1"
   ]
  },
  {
   "cell_type": "code",
   "execution_count": 106,
   "id": "5bd027fa-6d05-479b-9500-6aa1bf7bc900",
   "metadata": {},
   "outputs": [],
   "source": [
    "l=[1,2,3,4,5,6,\"sudh\",\"kumar\",32456,5684.6,\"abc\"]"
   ]
  },
  {
   "cell_type": "code",
   "execution_count": 109,
   "id": "b24d66eb-013c-4f3e-aec3-4b1b2e3a0fb1",
   "metadata": {},
   "outputs": [],
   "source": [
    "l1_num=[]\n",
    "l2_str=[]\n",
    "for i in l:\n",
    "    if type(i) == int or type(i) == float:\n",
    "        l1_num.append(i)\n",
    "    else:\n",
    "        l2_str.append(i)\n"
   ]
  },
  {
   "cell_type": "code",
   "execution_count": 110,
   "id": "d144c054-311d-470f-ba4f-7adea9089697",
   "metadata": {},
   "outputs": [
    {
     "data": {
      "text/plain": [
       "[1, 2, 3, 4, 5, 6, 32456, 5684.6]"
      ]
     },
     "execution_count": 110,
     "metadata": {},
     "output_type": "execute_result"
    }
   ],
   "source": [
    "l1_num"
   ]
  },
  {
   "cell_type": "code",
   "execution_count": 111,
   "id": "b7e66695-661b-4f21-a8f1-a217bc5597b3",
   "metadata": {},
   "outputs": [
    {
     "data": {
      "text/plain": [
       "['sudh', 'kumar', 'abc']"
      ]
     },
     "execution_count": 111,
     "metadata": {},
     "output_type": "execute_result"
    }
   ],
   "source": [
    "l2_str"
   ]
  },
  {
   "cell_type": "code",
   "execution_count": null,
   "id": "86a49f29-275a-4990-90d9-4e58a942a417",
   "metadata": {},
   "outputs": [],
   "source": []
  }
 ],
 "metadata": {
  "kernelspec": {
   "display_name": "Python 3 (ipykernel)",
   "language": "python",
   "name": "python3"
  },
  "language_info": {
   "codemirror_mode": {
    "name": "ipython",
    "version": 3
   },
   "file_extension": ".py",
   "mimetype": "text/x-python",
   "name": "python",
   "nbconvert_exporter": "python",
   "pygments_lexer": "ipython3",
   "version": "3.10.8"
  }
 },
 "nbformat": 4,
 "nbformat_minor": 5
}
